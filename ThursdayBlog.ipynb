{
 "cells": [
  {
   "cell_type": "code",
   "execution_count": 1,
   "metadata": {},
   "outputs": [],
   "source": [
    "from IPython.display import clear_output"
   ]
  },
  {
   "cell_type": "code",
   "execution_count": 34,
   "metadata": {},
   "outputs": [],
   "source": [
    "class Blog:\n",
    "    def __init__(self):\n",
    "        self.users = set()\n",
    "        self.posts = []\n",
    "        self.current_user = None\n",
    "        \n",
    "    # Method to add new users to the blog\n",
    "    def create_new_user(self):\n",
    "        # Get user info from input\n",
    "        username = input('Please enter a username: ')\n",
    "        # Check if there is already a user with username\n",
    "        if username in {u.username for u in self.users}:\n",
    "            print(f\"User with username {username} already exists\")\n",
    "        else:\n",
    "            password = input('Please enter a password: ')\n",
    "            # Create a new User instance with info from input\n",
    "            new_user = User(username, password)\n",
    "            # Add user instance to the list of blog users\n",
    "            self.users.add(new_user)\n",
    "            print(f\"{new_user} has been created!\")\n",
    "    \n",
    "    # Method to log a user in\n",
    "    def log_user_in(self):\n",
    "        # Get user credentials\n",
    "        username = input(\"What is your username? \")\n",
    "        password = input(\"What is your password? \")\n",
    "        for user in self.users:\n",
    "            # Check if that user has the same username and password as the inputs\n",
    "            if user.username == username and user.check_password(password):\n",
    "                # If user has correct credentials, set the blog's current user to that user instance\n",
    "                self.current_user = user\n",
    "                print(f\"{user} has been logged in\")\n",
    "                break\n",
    "        # If no users in our blog user list have correct username/password, let them know\n",
    "        else:\n",
    "            print('Username and/or password is incorrect')\n",
    "            \n",
    "    # Method to log a user out\n",
    "    def log_user_out(self):\n",
    "        # Change the current_user attribute from the user to None\n",
    "        self.current_user = None\n",
    "        print('You have successfully logged out')\n",
    "        \n",
    "    # Method to create and add post to blog\n",
    "    def create_post(self):\n",
    "        # Check to make sure the user trying to create a post is logged in\n",
    "        if self.current_user is not None:\n",
    "            # Get title and body from user input\n",
    "            title = input('Enter the title of your post: ').title()\n",
    "            body = input('Enter the body of your post: ')\n",
    "            # Create a new Post instance with user input\n",
    "            new_post = Post(title, body, self.current_user)\n",
    "            # Add the post object to the blog's list of posts\n",
    "            self.posts.append(new_post)\n",
    "            print(f\"{new_post.title} has been created\")\n",
    "        else:\n",
    "            print('You must be logged in to perform this action')\n",
    "            \n",
    "    # Method to view all posts\n",
    "    def view_posts(self):\n",
    "        if self.posts:\n",
    "            for post in self.posts:\n",
    "                print(post)\n",
    "        else:\n",
    "            print(\"There are currently no posts for this blog :(\")\n",
    "\n",
    "\n",
    "class User:\n",
    "    id_counter = 1 # Class attribute keeping track of User IDs\n",
    "    \n",
    "    def __init__(self, username, password):\n",
    "        self.username = username\n",
    "        self.password = password\n",
    "        self.id = User.id_counter\n",
    "        User.id_counter += 1\n",
    "        \n",
    "    def __str__(self):\n",
    "        return self.username\n",
    "    \n",
    "    def __repr__(self):\n",
    "        return f\"<User {self.id}|{self.username}>\"\n",
    "    \n",
    "    def check_password(self, password_guess):\n",
    "        return self.password == password_guess\n",
    "\n",
    "\n",
    "class Post:\n",
    "    \n",
    "    id_counter = 1\n",
    "    \n",
    "    def __init__(self, title, body, author):\n",
    "        \"\"\"\n",
    "        title: Str\n",
    "        body: Str\n",
    "        author: User\n",
    "        \"\"\"\n",
    "        self.title = title\n",
    "        self.body = body\n",
    "        self.author = author\n",
    "        self.id = Post.id_counter\n",
    "        Post.id_counter += 1\n",
    "        \n",
    "    def __str__(self):\n",
    "        formatted_post = f\"\"\"\n",
    "        {self.id} - {self.title.title()}\n",
    "        By: {self.author}\n",
    "        {self.body}\n",
    "        \"\"\"\n",
    "        return formatted_post\n",
    "    \n",
    "    def __repr__(self):\n",
    "        return f\"<Post {self.id}|{self.title}>\"\n",
    "\n",
    "\n",
    "\n",
    "\n"
   ]
  },
  {
   "cell_type": "code",
   "execution_count": 36,
   "metadata": {
    "scrolled": false
   },
   "outputs": [
    {
     "name": "stdout",
     "output_type": "stream",
     "text": [
      "Thanks for checking out our blog\n"
     ]
    }
   ],
   "source": [
    "# Define function to run blog\n",
    "def run_blog():\n",
    "    # Create an instance of the blog\n",
    "    my_blog = Blog()\n",
    "    # Keep looping while blog is 'running'\n",
    "    while True:\n",
    "        # if there is no current user logged in\n",
    "        if my_blog.current_user is None:\n",
    "            print(\"1. Sign Up\\n2. Log In\\n3. View All Posts\\n5. Quit\")\n",
    "            to_do = input('Which option would you like to do? ')\n",
    "            while to_do not in {'1', '5', '2', '3'}:\n",
    "                to_do = input('Not valid. Please choose 1, 2, 3, or 5')\n",
    "            clear_output()\n",
    "            if to_do == '5':\n",
    "                print('Thanks for checking out our blog')\n",
    "                break\n",
    "            elif to_do == '1':\n",
    "                # method to create new user\n",
    "                my_blog.create_new_user()\n",
    "            elif to_do == '2':\n",
    "                # method to log user in\n",
    "                my_blog.log_user_in()\n",
    "            elif to_do == '3':\n",
    "                # method to view all posts\n",
    "                my_blog.view_posts()\n",
    "        # If there is a current user (aka a logged in user)\n",
    "        else:\n",
    "            print(\"1. Log Out\\n2. Create New Post\\n3. View All Posts\")\n",
    "            to_do = input('Which option would you like to do? ')\n",
    "            while to_do not in {'1', '2', '3'}:\n",
    "                to_do = input('Not valid. Please choose 1, 2, 3')\n",
    "            clear_output()\n",
    "            if to_do == '1':\n",
    "                # method to log user out\n",
    "                my_blog.log_user_out()\n",
    "            elif to_do == '2':\n",
    "                # method to create a new post\n",
    "                my_blog.create_post()\n",
    "            elif to_do == '3':\n",
    "                # method to view all posts\n",
    "                my_blog.view_posts()\n",
    "            \n",
    "            \n",
    "            \n",
    "# Execute the function\n",
    "run_blog()"
   ]
  },
  {
   "cell_type": "code",
   "execution_count": 28,
   "metadata": {},
   "outputs": [
    {
     "name": "stdout",
     "output_type": "stream",
     "text": [
      "[<User 1|brians>, <User 2|pythonfan>]\n"
     ]
    }
   ],
   "source": [
    "u1 = User('brians', 'abc123')\n",
    "u2 = User('pythonfan', 'coding')\n",
    "\n",
    "blog_users = [u1, u2]\n",
    "print(blog_users)"
   ]
  },
  {
   "cell_type": "code",
   "execution_count": 29,
   "metadata": {
    "scrolled": true
   },
   "outputs": [
    {
     "name": "stdout",
     "output_type": "stream",
     "text": [
      "{'brians', 'pythonfan'}\n"
     ]
    },
    {
     "data": {
      "text/plain": [
       "True"
      ]
     },
     "execution_count": 29,
     "metadata": {},
     "output_type": "execute_result"
    }
   ],
   "source": [
    "print({u.username for u in blog_users})\n",
    "'brians' in {u.username for u in blog_users}"
   ]
  },
  {
   "cell_type": "code",
   "execution_count": 30,
   "metadata": {},
   "outputs": [
    {
     "name": "stdout",
     "output_type": "stream",
     "text": [
      "\n",
      "        1 - First Post\n",
      "        By: brians\n",
      "        This is my very first post. I hope it works\n",
      "        \n"
     ]
    }
   ],
   "source": [
    "p1 = Post('First Post', 'This is my very first post. I hope it works', u1)\n",
    "\n",
    "print(p1)"
   ]
  },
  {
   "cell_type": "code",
   "execution_count": 31,
   "metadata": {},
   "outputs": [
    {
     "data": {
      "text/plain": [
       "<Post 1|First Post>"
      ]
     },
     "execution_count": 31,
     "metadata": {},
     "output_type": "execute_result"
    }
   ],
   "source": [
    "p1"
   ]
  }
 ],
 "metadata": {
  "kernelspec": {
   "display_name": "Python 3",
   "language": "python",
   "name": "python3"
  },
  "language_info": {
   "codemirror_mode": {
    "name": "ipython",
    "version": 3
   },
   "file_extension": ".py",
   "mimetype": "text/x-python",
   "name": "python",
   "nbconvert_exporter": "python",
   "pygments_lexer": "ipython3",
   "version": "3.8.5"
  }
 },
 "nbformat": 4,
 "nbformat_minor": 4
}
