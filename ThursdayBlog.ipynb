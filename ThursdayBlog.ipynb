{
 "cells": [
  {
   "cell_type": "code",
   "execution_count": 1,
   "metadata": {},
   "outputs": [],
   "source": [
    "from IPython.display import clear_output"
   ]
  },
  {
   "cell_type": "code",
   "execution_count": 77,
   "metadata": {},
   "outputs": [],
   "source": [
    "class Blog:\n",
    "    def __init__(self):\n",
    "        self.users = set()\n",
    "        self.posts = []\n",
    "        self.current_user = None\n",
    "        \n",
    "    def _get_post_from_id(self, post_id):\n",
    "        for post in self.posts:\n",
    "            if post.id == int(post_id):\n",
    "                return post\n",
    "        \n",
    "        \n",
    "    # Method to add new users to the blog\n",
    "    def create_new_user(self):\n",
    "        # Get user info from input\n",
    "        username = input('Please enter a username: ')\n",
    "        # Check if there is already a user with username\n",
    "        if username in {u.username for u in self.users}:\n",
    "            print(f\"User with username {username} already exists\")\n",
    "        else:\n",
    "            password = input('Please enter a password: ')\n",
    "            # Create a new User instance with info from input\n",
    "            new_user = User(username, password)\n",
    "            # Add user instance to the list of blog users\n",
    "            self.users.add(new_user)\n",
    "            print(f\"{new_user} has been created!\")\n",
    "    \n",
    "    # Method to log a user in\n",
    "    def log_user_in(self):\n",
    "        # Get user credentials\n",
    "        username = input(\"What is your username? \")\n",
    "        password = input(\"What is your password? \")\n",
    "        for user in self.users:\n",
    "            # Check if that user has the same username and password as the inputs\n",
    "            if user.username == username and user.check_password(password):\n",
    "                # If user has correct credentials, set the blog's current user to that user instance\n",
    "                self.current_user = user\n",
    "                print(f\"{user} has been logged in\")\n",
    "                break\n",
    "        # If no users in our blog user list have correct username/password, let them know\n",
    "        else:\n",
    "            print('Username and/or password is incorrect')\n",
    "            \n",
    "    # Method to log a user out\n",
    "    def log_user_out(self):\n",
    "        # Change the current_user attribute from the user to None\n",
    "        self.current_user = None\n",
    "        print('You have successfully logged out')\n",
    "        \n",
    "    # Method to create and add post to blog\n",
    "    def create_post(self):\n",
    "        # Check to make sure the user trying to create a post is logged in\n",
    "        if self.current_user is not None:\n",
    "            # Get title and body from user input\n",
    "            title = input('Enter the title of your post: ').title()\n",
    "            body = input('Enter the body of your post: ')\n",
    "            # Create a new Post instance with user input\n",
    "            new_post = Post(title, body, self.current_user)\n",
    "            # Add the post object to the blog's list of posts\n",
    "            self.posts.append(new_post)\n",
    "            print(f\"{new_post.title} has been created\")\n",
    "        else:\n",
    "            print('You must be logged in to perform this action')\n",
    "            \n",
    "    # Method to view all posts\n",
    "    def view_posts(self):\n",
    "        if self.posts:\n",
    "            for post in self.posts:\n",
    "                print(post)\n",
    "        else:\n",
    "            print(\"There are currently no posts for this blog :(\")\n",
    "            \n",
    "    # Method to view a single post\n",
    "    def view_post(self, post_id):\n",
    "        post = self._get_post_from_id(post_id)\n",
    "        if post:\n",
    "            print(post)\n",
    "        else:\n",
    "            print(f\"Post with an id of {post_id} does not exist.\")\n",
    "            \n",
    "    # Method to edit a single post\n",
    "    def edit_post(self, post_id):\n",
    "        post = self._get_post_from_id(post_id)\n",
    "        if post:\n",
    "            # Check that the user is logged in AND that the logged in user is author of the post\n",
    "            if self.current_user is not None and self.current_user == post.author:\n",
    "                print(post)\n",
    "                # Ask the user which part of the post they would like to edit\n",
    "                edit_part = input('Would you like to edit the title, body, both, or exit? ').lower()\n",
    "                # Make sure they choose an acceptable response\n",
    "                while edit_part not in {'title', 'body', 'both', 'exit'}:\n",
    "                    edit_part = input('Would you like to edit the title, body, both, or exit? ').lower()\n",
    "                if edit_part == 'exit':\n",
    "                    return\n",
    "                elif edit_part == 'both':\n",
    "                    # Get new title and body\n",
    "                    new_title = input('Enter the new title: ')\n",
    "                    new_body = input('Enter the new body: ')\n",
    "                    # Edit post with post.update method\n",
    "                    post.update(title=new_title, body=new_body)\n",
    "                elif edit_part == 'title':\n",
    "                    # Get new title\n",
    "                    new_title = input('Enter the new title: ')\n",
    "                    # Edit post with post.update method\n",
    "                    post.update(title=new_title)\n",
    "                elif edit_part == 'body':\n",
    "                    # Get new body\n",
    "                    new_body = input('Enter the new body: ')\n",
    "                    # Edit post with post.update method\n",
    "                    post.update(body=new_body)\n",
    "                print(f\"{post.title.title()} has been updated\")\n",
    "                \n",
    "            # If logged in but not author \n",
    "            elif self.current_user is not None:\n",
    "                print(\"You do not have permission to edit this post\") # 403\n",
    "            # If not logged in nor the author \n",
    "            else:\n",
    "                print('You must be logged in to perform this action') # 401\n",
    "        else:\n",
    "            print(f\"Post with an id of {post_id} does not exist.\")\n",
    "            \n",
    "    # Method to delete a single post\n",
    "    def delete_post(self, post_id):\n",
    "        # Call private method to either return Post object or None\n",
    "        post = self._get_post_from_id(post_id)\n",
    "        # If Post object returned\n",
    "        if post:\n",
    "            # Check that the user is logged in AND that the logged in user is author of the post\n",
    "            if self.current_user is not None and self.current_user == post.author:\n",
    "                # Set blog post list to a new list of posts that do not include the post to delete\n",
    "                self.posts.remove(post)\n",
    "                print(f\"{post.title} has been deleted\")\n",
    "            # If logged in but not author \n",
    "            elif self.current_user is not None:\n",
    "                print(\"You do not have permission to delete this post\") # 403\n",
    "            # If not logged in nor the author \n",
    "            else:\n",
    "                print('You must be logged in to perform this action') # 401\n",
    "        # If None is returned\n",
    "        else:\n",
    "            print(f\"Post with an id of {post_id} does not exist\")\n",
    "\n",
    "\n",
    "class User:\n",
    "    id_counter = 1 # Class attribute keeping track of User IDs\n",
    "    \n",
    "    def __init__(self, username, password):\n",
    "        self.username = username\n",
    "        self.password = password\n",
    "        self.id = User.id_counter\n",
    "        User.id_counter += 1\n",
    "        \n",
    "    def __str__(self):\n",
    "        return self.username\n",
    "    \n",
    "    def __repr__(self):\n",
    "        return f\"<User {self.id}|{self.username}>\"\n",
    "    \n",
    "    def check_password(self, password_guess):\n",
    "        return self.password == password_guess\n",
    "\n",
    "\n",
    "class Post:\n",
    "    \n",
    "    id_counter = 1\n",
    "    \n",
    "    def __init__(self, title, body, author):\n",
    "        \"\"\"\n",
    "        title: Str\n",
    "        body: Str\n",
    "        author: User\n",
    "        \"\"\"\n",
    "        self.title = title\n",
    "        self.body = body\n",
    "        self.author = author\n",
    "        self.id = Post.id_counter\n",
    "        Post.id_counter += 1\n",
    "        \n",
    "    def __str__(self):\n",
    "        formatted_post = f\"\"\"\n",
    "        {self.id} - {self.title.title()}\n",
    "        By: {self.author}\n",
    "        {self.body}\n",
    "        \"\"\"\n",
    "        return formatted_post\n",
    "    \n",
    "    def __repr__(self):\n",
    "        return f\"<Post {self.id}|{self.title}>\"\n",
    "    \n",
    "    def update(self, **kwargs):\n",
    "        for key, value in kwargs.items():\n",
    "            if key in {'title', 'body'}:\n",
    "                setattr(self, key, value)\n",
    "\n",
    "\n",
    "\n",
    "\n"
   ]
  },
  {
   "cell_type": "code",
   "execution_count": 78,
   "metadata": {
    "scrolled": false
   },
   "outputs": [
    {
     "name": "stdout",
     "output_type": "stream",
     "text": [
      "Thanks for checking out our blog\n"
     ]
    }
   ],
   "source": [
    "# Define function to run blog\n",
    "def run_blog():\n",
    "    # Create an instance of the blog\n",
    "    my_blog = Blog()\n",
    "    # Keep looping while blog is 'running'\n",
    "    while True:\n",
    "        # if there is no current user logged in\n",
    "        if my_blog.current_user is None:\n",
    "            print(\"1. Sign Up\\n2. Log In\\n3. View All Posts\\n4. View Single Post\\n5. Quit\")\n",
    "            to_do = input('Which option would you like to do? ')\n",
    "            while to_do not in {'1', '5', '2', '3', '4'}:\n",
    "                to_do = input('Not valid. Please choose 1, 2, 3, 4 or 5')\n",
    "            clear_output()\n",
    "            if to_do == '5':\n",
    "                print('Thanks for checking out our blog')\n",
    "                break\n",
    "            elif to_do == '1':\n",
    "                # method to create new user\n",
    "                my_blog.create_new_user()\n",
    "            elif to_do == '2':\n",
    "                # method to log user in\n",
    "                my_blog.log_user_in()\n",
    "            elif to_do == '3':\n",
    "                # method to view all posts\n",
    "                my_blog.view_posts()\n",
    "            elif to_do == '4':\n",
    "                # method to view a single post\n",
    "                post_id = input('What is the id of the post you would like to view? ')\n",
    "                my_blog.view_post(post_id)\n",
    "        # If there is a current user (aka a logged in user)\n",
    "        else:\n",
    "            print(\"1. Log Out\\n2. Create New Post\\n3. View All Posts\\n4. View Single Post\\n5. Edit A Post\\n6. Delete a Post\")\n",
    "            to_do = input('Which option would you like to do? ')\n",
    "            while to_do not in {'1', '2', '3', '4', '5', '6'}:\n",
    "                to_do = input('Not valid. Please choose 1, 2, 3, 4, 5, or 6')\n",
    "            clear_output()\n",
    "            if to_do == '1':\n",
    "                # method to log user out\n",
    "                my_blog.log_user_out()\n",
    "            elif to_do == '2':\n",
    "                # method to create a new post\n",
    "                my_blog.create_post()\n",
    "            elif to_do == '3':\n",
    "                # method to view all posts\n",
    "                my_blog.view_posts()\n",
    "            elif to_do == '4':\n",
    "                # method to view a single post\n",
    "                post_id = input('What is the id of the post you would like to view? ')\n",
    "                my_blog.view_post(post_id)\n",
    "            elif to_do == '5':\n",
    "                # method to edit a single post\n",
    "                post_id = input('What is the id of the post you would like to edit? ')\n",
    "                my_blog.edit_post(post_id)\n",
    "            elif to_do == '6':\n",
    "                # method to delete a single post\n",
    "                post_id = input('What is the id of the post you would like to delete? ')\n",
    "                my_blog.delete_post(post_id)\n",
    "            \n",
    "            \n",
    "            \n",
    "# Execute the function\n",
    "run_blog()"
   ]
  },
  {
   "cell_type": "code",
   "execution_count": 76,
   "metadata": {},
   "outputs": [
    {
     "name": "stdout",
     "output_type": "stream",
     "text": [
      "[<Post 4|First Post>]\n",
      "[]\n"
     ]
    }
   ],
   "source": [
    "b = Blog()\n",
    "p = Post('First Post', 'This is my very first post. I hope it works', u1)\n",
    "b.posts.append(p)\n",
    "print(b.posts)\n",
    "b.posts.remove(p)\n",
    "print(b.posts)"
   ]
  },
  {
   "cell_type": "code",
   "execution_count": null,
   "metadata": {},
   "outputs": [],
   "source": []
  },
  {
   "cell_type": "code",
   "execution_count": null,
   "metadata": {},
   "outputs": [],
   "source": []
  },
  {
   "cell_type": "code",
   "execution_count": 28,
   "metadata": {},
   "outputs": [
    {
     "name": "stdout",
     "output_type": "stream",
     "text": [
      "[<User 1|brians>, <User 2|pythonfan>]\n"
     ]
    }
   ],
   "source": [
    "u1 = User('brians', 'abc123')\n",
    "u2 = User('pythonfan', 'coding')\n",
    "\n",
    "blog_users = [u1, u2]\n",
    "print(blog_users)"
   ]
  },
  {
   "cell_type": "code",
   "execution_count": 29,
   "metadata": {
    "scrolled": true
   },
   "outputs": [
    {
     "name": "stdout",
     "output_type": "stream",
     "text": [
      "{'brians', 'pythonfan'}\n"
     ]
    },
    {
     "data": {
      "text/plain": [
       "True"
      ]
     },
     "execution_count": 29,
     "metadata": {},
     "output_type": "execute_result"
    }
   ],
   "source": [
    "print({u.username for u in blog_users})\n",
    "'brians' in {u.username for u in blog_users}"
   ]
  },
  {
   "cell_type": "code",
   "execution_count": 30,
   "metadata": {},
   "outputs": [
    {
     "name": "stdout",
     "output_type": "stream",
     "text": [
      "\n",
      "        1 - First Post\n",
      "        By: brians\n",
      "        This is my very first post. I hope it works\n",
      "        \n"
     ]
    }
   ],
   "source": [
    "p1 = Post('First Post', 'This is my very first post. I hope it works', u1)\n",
    "\n",
    "print(p1)"
   ]
  },
  {
   "cell_type": "code",
   "execution_count": 31,
   "metadata": {},
   "outputs": [
    {
     "data": {
      "text/plain": [
       "<Post 1|First Post>"
      ]
     },
     "execution_count": 31,
     "metadata": {},
     "output_type": "execute_result"
    }
   ],
   "source": [
    "p1"
   ]
  },
  {
   "cell_type": "code",
   "execution_count": 42,
   "metadata": {},
   "outputs": [
    {
     "name": "stdout",
     "output_type": "stream",
     "text": [
      "Help on built-in function setattr in module builtins:\n",
      "\n",
      "setattr(obj, name, value, /)\n",
      "    Sets the named attribute on the given object to the specified value.\n",
      "    \n",
      "    setattr(x, 'y', v) is equivalent to ``x.y = v''\n",
      "\n"
     ]
    }
   ],
   "source": [
    "help(setattr)"
   ]
  },
  {
   "cell_type": "code",
   "execution_count": 43,
   "metadata": {},
   "outputs": [
    {
     "data": {
      "text/plain": [
       "<User 1|brians>"
      ]
     },
     "execution_count": 43,
     "metadata": {},
     "output_type": "execute_result"
    }
   ],
   "source": [
    "u1"
   ]
  },
  {
   "cell_type": "code",
   "execution_count": 45,
   "metadata": {},
   "outputs": [
    {
     "name": "stdout",
     "output_type": "stream",
     "text": [
      "What is the attributehometown\n",
      "What is the valueChicago\n",
      "['__class__', '__delattr__', '__dict__', '__dir__', '__doc__', '__eq__', '__format__', '__ge__', '__getattribute__', '__gt__', '__hash__', '__init__', '__init_subclass__', '__le__', '__lt__', '__module__', '__ne__', '__new__', '__reduce__', '__reduce_ex__', '__repr__', '__setattr__', '__sizeof__', '__str__', '__subclasshook__', '__weakref__', 'check_password', 'hometown', 'id', 'id_counter', 'password', 'username']\n"
     ]
    }
   ],
   "source": [
    "custom_attribute = input('What is the attribute')\n",
    "custom_value = input('What is the value')\n",
    "\n",
    "setattr(u1, custom_attribute, custom_value)\n",
    "print(dir(u1))"
   ]
  },
  {
   "cell_type": "code",
   "execution_count": 53,
   "metadata": {},
   "outputs": [
    {
     "data": {
      "text/plain": [
       "{'username': 'brians', 'password': 'abc123', 'id': 1, 'hometown': 'Chicago'}"
      ]
     },
     "execution_count": 53,
     "metadata": {},
     "output_type": "execute_result"
    }
   ],
   "source": [
    "u1.__dict__"
   ]
  },
  {
   "cell_type": "code",
   "execution_count": 58,
   "metadata": {},
   "outputs": [
    {
     "name": "stdout",
     "output_type": "stream",
     "text": [
      "{'name': 'Brian', 'city': 'Chicago'}\n",
      "{'name': 'Tatyana', 'city': 'Chicago'}\n"
     ]
    }
   ],
   "source": [
    "class Test:\n",
    "    pass\n",
    "\n",
    "\n",
    "x = Test()\n",
    "y = Test()\n",
    "\n",
    "\n",
    "x.name = 'Brian'\n",
    "x.city = 'Chicago'\n",
    "\n",
    "setattr(y, 'name', 'Tatyana')\n",
    "setattr(y, 'city', 'Chicago')\n",
    "\n",
    "print(x.__dict__)\n",
    "print(y.__dict__)"
   ]
  },
  {
   "cell_type": "code",
   "execution_count": 60,
   "metadata": {},
   "outputs": [
    {
     "name": "stdout",
     "output_type": "stream",
     "text": [
      "{'name': 'Brian', 'city': 'Chicago', 'height': 10, 'weight': 100}\n",
      "{'name': 'Brian', 'city': 'New York', 'height': 10, 'weight': 100}\n"
     ]
    }
   ],
   "source": [
    "def update_obj(some_obj, **kwargs):\n",
    "#     print(kwargs)\n",
    "    for key, value in kwargs.items():\n",
    "        setattr(some_obj, key, value)\n",
    "        \n",
    "print(x.__dict__)       \n",
    "update_obj(x, height=10, weight=100, city='New York')\n",
    "print(x.__dict__)"
   ]
  },
  {
   "cell_type": "code",
   "execution_count": 61,
   "metadata": {},
   "outputs": [],
   "source": [
    "data = {'title': 'Edited Title', 'body': 'Edited body'}\n",
    "\n",
    "update_obj(x, **data)\n"
   ]
  },
  {
   "cell_type": "code",
   "execution_count": 62,
   "metadata": {},
   "outputs": [
    {
     "name": "stdout",
     "output_type": "stream",
     "text": [
      "{'name': 'Brian', 'city': 'New York', 'height': 10, 'weight': 100, 'title': 'Edited Title', 'body': 'Edited body'}\n"
     ]
    }
   ],
   "source": [
    "print(x.__dict__)"
   ]
  },
  {
   "cell_type": "code",
   "execution_count": 70,
   "metadata": {},
   "outputs": [
    {
     "name": "stdout",
     "output_type": "stream",
     "text": [
      "[<Post 14|First Post>, <Post 15|Second Post>, <Post 16|Third Post>, <Post 17|Fourth Post>, <Post 18|Fifth Post>]\n"
     ]
    }
   ],
   "source": [
    "p1 = Post('First Post', 'This is my very first post. I hope it works', u1)\n",
    "p2 = Post('Second Post', 'This is my very first post. I hope it works', u1)\n",
    "p3 = Post('Third Post', 'This is my very first post. I hope it works', u1)\n",
    "p4 = Post('Fourth Post', 'This is my very first post. I hope it works', u1)\n",
    "p5 = Post('Fifth Post', 'This is my very first post. I hope it works', u1)\n",
    "\n",
    "posts = [p1, p2, p3, p4, p5]\n",
    "print(posts)"
   ]
  },
  {
   "cell_type": "code",
   "execution_count": 72,
   "metadata": {},
   "outputs": [
    {
     "name": "stdout",
     "output_type": "stream",
     "text": [
      "2\n",
      "[<Post 14|First Post>, <Post 15|Second Post>, <Post 17|Fourth Post>, <Post 18|Fifth Post>]\n"
     ]
    }
   ],
   "source": [
    "index = posts.index(p3)\n",
    "print(index)\n",
    "del posts[index]\n",
    "print(posts)"
   ]
  },
  {
   "cell_type": "code",
   "execution_count": null,
   "metadata": {},
   "outputs": [],
   "source": []
  }
 ],
 "metadata": {
  "kernelspec": {
   "display_name": "Python 3",
   "language": "python",
   "name": "python3"
  },
  "language_info": {
   "codemirror_mode": {
    "name": "ipython",
    "version": 3
   },
   "file_extension": ".py",
   "mimetype": "text/x-python",
   "name": "python",
   "nbconvert_exporter": "python",
   "pygments_lexer": "ipython3",
   "version": "3.8.5"
  }
 },
 "nbformat": 4,
 "nbformat_minor": 4
}
